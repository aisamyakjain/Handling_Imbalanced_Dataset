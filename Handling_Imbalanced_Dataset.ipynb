{
 "cells": [
  {
   "cell_type": "markdown",
   "id": "b2463938-bdf8-4058-8599-a7fdcb0c1cd8",
   "metadata": {},
   "source": [
    "## Imbalanced Data Handling"
   ]
  },
  {
   "cell_type": "markdown",
   "id": "2ba6f094-7154-4d01-ae56-54e81f8821fd",
   "metadata": {},
   "source": [
    "There are two technique for handling the imbalanced data it's depends on data which one we have to choose.\n",
    "1. Upsampling\n",
    "2. Downsampling"
   ]
  },
  {
   "cell_type": "code",
   "execution_count": 12,
   "id": "140190be-1fc8-47e4-8c8d-31eb15d4d818",
   "metadata": {},
   "outputs": [],
   "source": [
    "import numpy as np\n",
    "import pandas as pd"
   ]
  },
  {
   "cell_type": "code",
   "execution_count": 20,
   "id": "15f039e4-5790-48c8-8bd9-f1cdc2452154",
   "metadata": {},
   "outputs": [],
   "source": [
    "# Set the random seed for reproducbility\n",
    "\n",
    "np.random.seed(123)"
   ]
  },
  {
   "cell_type": "code",
   "execution_count": 28,
   "id": "8207e73c-81ff-4a20-890a-ddf78beedbc2",
   "metadata": {},
   "outputs": [],
   "source": [
    "# create the dataframe with two classes\n",
    "\n",
    "n_samples = 1000\n",
    "class_0_ratio = 0.9\n",
    "n_class_0 = int(n_samples * class_0_ratio)\n",
    "n_class_1 = n_samples - n_class_0"
   ]
  },
  {
   "cell_type": "code",
   "execution_count": 29,
   "id": "ed27f116-091f-4644-ac44-2f7937b684f5",
   "metadata": {},
   "outputs": [
    {
     "data": {
      "text/plain": [
       "(900, 100)"
      ]
     },
     "execution_count": 29,
     "metadata": {},
     "output_type": "execute_result"
    }
   ],
   "source": [
    "n_class_0,class_1_ratio"
   ]
  },
  {
   "cell_type": "code",
   "execution_count": 32,
   "id": "07a68f28-fdc0-4d22-8609-aebca0fc7fb6",
   "metadata": {},
   "outputs": [],
   "source": [
    "# In this we have make the two feature in each category\n",
    "\n",
    "class_0 = pd.DataFrame({\n",
    "    'feature_1' : np.random.normal(loc = 0, scale = 1, size = n_class_0 ),\n",
    "    'feature_2' : np.random.normal(loc = 0 , scale =1 , size = n_class_0),\n",
    "    'target' : [0] * n_class_0\n",
    "})\n",
    "\n",
    "class_1 = pd.DataFrame({\n",
    "    'feature_1' : np.random.normal(loc = 2 ,scale = 1 , size = n_class_1),\n",
    "    'feature_2' : np.random.normal(loc = 2 ,scale = 1 , size = n_class_1),\n",
    "    'target' : [1] * n_class_1\n",
    "})"
   ]
  },
  {
   "cell_type": "code",
   "execution_count": 34,
   "id": "c2338b84-c187-4bcf-af28-150aeef23243",
   "metadata": {},
   "outputs": [],
   "source": [
    "df = pd.concat([class_0 , class_1]).reset_index(drop=True)"
   ]
  },
  {
   "cell_type": "code",
   "execution_count": 36,
   "id": "9854757f-9530-47ed-b484-495ed8222b45",
   "metadata": {},
   "outputs": [
    {
     "data": {
      "text/html": [
       "<div>\n",
       "<style scoped>\n",
       "    .dataframe tbody tr th:only-of-type {\n",
       "        vertical-align: middle;\n",
       "    }\n",
       "\n",
       "    .dataframe tbody tr th {\n",
       "        vertical-align: top;\n",
       "    }\n",
       "\n",
       "    .dataframe thead th {\n",
       "        text-align: right;\n",
       "    }\n",
       "</style>\n",
       "<table border=\"1\" class=\"dataframe\">\n",
       "  <thead>\n",
       "    <tr style=\"text-align: right;\">\n",
       "      <th></th>\n",
       "      <th>feature_1</th>\n",
       "      <th>feature_2</th>\n",
       "      <th>target</th>\n",
       "    </tr>\n",
       "  </thead>\n",
       "  <tbody>\n",
       "    <tr>\n",
       "      <th>0</th>\n",
       "      <td>1.300921</td>\n",
       "      <td>-2.639568</td>\n",
       "      <td>0</td>\n",
       "    </tr>\n",
       "    <tr>\n",
       "      <th>1</th>\n",
       "      <td>-0.930652</td>\n",
       "      <td>-0.199810</td>\n",
       "      <td>0</td>\n",
       "    </tr>\n",
       "    <tr>\n",
       "      <th>2</th>\n",
       "      <td>-0.851313</td>\n",
       "      <td>-0.322697</td>\n",
       "      <td>0</td>\n",
       "    </tr>\n",
       "    <tr>\n",
       "      <th>3</th>\n",
       "      <td>0.136584</td>\n",
       "      <td>1.526228</td>\n",
       "      <td>0</td>\n",
       "    </tr>\n",
       "    <tr>\n",
       "      <th>4</th>\n",
       "      <td>-0.424254</td>\n",
       "      <td>-1.428047</td>\n",
       "      <td>0</td>\n",
       "    </tr>\n",
       "  </tbody>\n",
       "</table>\n",
       "</div>"
      ],
      "text/plain": [
       "   feature_1  feature_2  target\n",
       "0   1.300921  -2.639568       0\n",
       "1  -0.930652  -0.199810       0\n",
       "2  -0.851313  -0.322697       0\n",
       "3   0.136584   1.526228       0\n",
       "4  -0.424254  -1.428047       0"
      ]
     },
     "execution_count": 36,
     "metadata": {},
     "output_type": "execute_result"
    }
   ],
   "source": [
    "df.head()"
   ]
  },
  {
   "cell_type": "code",
   "execution_count": 37,
   "id": "a9516f78-15fd-40b0-b782-97182b94e359",
   "metadata": {},
   "outputs": [
    {
     "data": {
      "text/plain": [
       "0    900\n",
       "1    100\n",
       "Name: target, dtype: int64"
      ]
     },
     "execution_count": 37,
     "metadata": {},
     "output_type": "execute_result"
    }
   ],
   "source": [
    "df['target'].value_counts()"
   ]
  },
  {
   "cell_type": "markdown",
   "id": "9f7abc66-f73e-49ce-b303-c3a526d3ace3",
   "metadata": {},
   "source": [
    "## Upsampling"
   ]
  },
  {
   "cell_type": "code",
   "execution_count": 38,
   "id": "57f3d517-54ab-41a6-8cf5-f5cb08de0bc4",
   "metadata": {},
   "outputs": [],
   "source": [
    "df_minority = df[df['target'] ==1]\n",
    "df_majority = df[df['target'] ==0]"
   ]
  },
  {
   "cell_type": "code",
   "execution_count": 39,
   "id": "a10f8daf-b861-408a-842e-8483b7cb7f4c",
   "metadata": {},
   "outputs": [
    {
     "data": {
      "text/html": [
       "<div>\n",
       "<style scoped>\n",
       "    .dataframe tbody tr th:only-of-type {\n",
       "        vertical-align: middle;\n",
       "    }\n",
       "\n",
       "    .dataframe tbody tr th {\n",
       "        vertical-align: top;\n",
       "    }\n",
       "\n",
       "    .dataframe thead th {\n",
       "        text-align: right;\n",
       "    }\n",
       "</style>\n",
       "<table border=\"1\" class=\"dataframe\">\n",
       "  <thead>\n",
       "    <tr style=\"text-align: right;\">\n",
       "      <th></th>\n",
       "      <th>feature_1</th>\n",
       "      <th>feature_2</th>\n",
       "      <th>target</th>\n",
       "    </tr>\n",
       "  </thead>\n",
       "  <tbody>\n",
       "    <tr>\n",
       "      <th>900</th>\n",
       "      <td>2.301225</td>\n",
       "      <td>1.349116</td>\n",
       "      <td>1</td>\n",
       "    </tr>\n",
       "    <tr>\n",
       "      <th>901</th>\n",
       "      <td>1.935051</td>\n",
       "      <td>4.079573</td>\n",
       "      <td>1</td>\n",
       "    </tr>\n",
       "    <tr>\n",
       "      <th>902</th>\n",
       "      <td>1.393597</td>\n",
       "      <td>3.445297</td>\n",
       "      <td>1</td>\n",
       "    </tr>\n",
       "    <tr>\n",
       "      <th>903</th>\n",
       "      <td>1.771339</td>\n",
       "      <td>1.331946</td>\n",
       "      <td>1</td>\n",
       "    </tr>\n",
       "    <tr>\n",
       "      <th>904</th>\n",
       "      <td>3.776112</td>\n",
       "      <td>1.418799</td>\n",
       "      <td>1</td>\n",
       "    </tr>\n",
       "  </tbody>\n",
       "</table>\n",
       "</div>"
      ],
      "text/plain": [
       "     feature_1  feature_2  target\n",
       "900   2.301225   1.349116       1\n",
       "901   1.935051   4.079573       1\n",
       "902   1.393597   3.445297       1\n",
       "903   1.771339   1.331946       1\n",
       "904   3.776112   1.418799       1"
      ]
     },
     "execution_count": 39,
     "metadata": {},
     "output_type": "execute_result"
    }
   ],
   "source": [
    "df_minority.head()"
   ]
  },
  {
   "cell_type": "code",
   "execution_count": 40,
   "id": "e3b3aa83-69bb-4696-8c6e-e245809eeb80",
   "metadata": {},
   "outputs": [
    {
     "data": {
      "text/html": [
       "<div>\n",
       "<style scoped>\n",
       "    .dataframe tbody tr th:only-of-type {\n",
       "        vertical-align: middle;\n",
       "    }\n",
       "\n",
       "    .dataframe tbody tr th {\n",
       "        vertical-align: top;\n",
       "    }\n",
       "\n",
       "    .dataframe thead th {\n",
       "        text-align: right;\n",
       "    }\n",
       "</style>\n",
       "<table border=\"1\" class=\"dataframe\">\n",
       "  <thead>\n",
       "    <tr style=\"text-align: right;\">\n",
       "      <th></th>\n",
       "      <th>feature_1</th>\n",
       "      <th>feature_2</th>\n",
       "      <th>target</th>\n",
       "    </tr>\n",
       "  </thead>\n",
       "  <tbody>\n",
       "    <tr>\n",
       "      <th>0</th>\n",
       "      <td>1.300921</td>\n",
       "      <td>-2.639568</td>\n",
       "      <td>0</td>\n",
       "    </tr>\n",
       "    <tr>\n",
       "      <th>1</th>\n",
       "      <td>-0.930652</td>\n",
       "      <td>-0.199810</td>\n",
       "      <td>0</td>\n",
       "    </tr>\n",
       "    <tr>\n",
       "      <th>2</th>\n",
       "      <td>-0.851313</td>\n",
       "      <td>-0.322697</td>\n",
       "      <td>0</td>\n",
       "    </tr>\n",
       "    <tr>\n",
       "      <th>3</th>\n",
       "      <td>0.136584</td>\n",
       "      <td>1.526228</td>\n",
       "      <td>0</td>\n",
       "    </tr>\n",
       "    <tr>\n",
       "      <th>4</th>\n",
       "      <td>-0.424254</td>\n",
       "      <td>-1.428047</td>\n",
       "      <td>0</td>\n",
       "    </tr>\n",
       "  </tbody>\n",
       "</table>\n",
       "</div>"
      ],
      "text/plain": [
       "   feature_1  feature_2  target\n",
       "0   1.300921  -2.639568       0\n",
       "1  -0.930652  -0.199810       0\n",
       "2  -0.851313  -0.322697       0\n",
       "3   0.136584   1.526228       0\n",
       "4  -0.424254  -1.428047       0"
      ]
     },
     "execution_count": 40,
     "metadata": {},
     "output_type": "execute_result"
    }
   ],
   "source": [
    "df_majority.head()"
   ]
  },
  {
   "cell_type": "markdown",
   "id": "c00ea876-3ea5-4203-8c18-85fb6e8eafee",
   "metadata": {},
   "source": [
    "## Perfoming Upsampling"
   ]
  },
  {
   "cell_type": "code",
   "execution_count": 42,
   "id": "a612b825-f166-4f2e-afff-858e7aee5079",
   "metadata": {},
   "outputs": [],
   "source": [
    "from sklearn.utils import  resample"
   ]
  },
  {
   "cell_type": "code",
   "execution_count": 43,
   "id": "fbd51c38-48fd-471f-823a-b178b9c8d589",
   "metadata": {},
   "outputs": [],
   "source": [
    "df_minority_upsample = resample(df_minority,\n",
    "                                replace= True,  # sample with replacement\n",
    "                                n_samples = len(df_majority), # to match the majority class\n",
    "                                random_state = 42\n",
    "                               )"
   ]
  },
  {
   "cell_type": "code",
   "execution_count": 60,
   "id": "e2d58491-3187-4472-ab1f-d8d0849e503f",
   "metadata": {},
   "outputs": [
    {
     "data": {
      "text/plain": [
       "(900, 3)"
      ]
     },
     "execution_count": 60,
     "metadata": {},
     "output_type": "execute_result"
    }
   ],
   "source": [
    "df_minority_upsample.shape"
   ]
  },
  {
   "cell_type": "code",
   "execution_count": 61,
   "id": "8249ed05-bfea-4f2e-b042-5cd36512320f",
   "metadata": {},
   "outputs": [
    {
     "data": {
      "text/plain": [
       "(900, 3)"
      ]
     },
     "execution_count": 61,
     "metadata": {},
     "output_type": "execute_result"
    }
   ],
   "source": [
    "df_minority_upsample.shape"
   ]
  },
  {
   "cell_type": "code",
   "execution_count": 62,
   "id": "9971772e-3854-4fc7-bce6-c54a3605ef23",
   "metadata": {},
   "outputs": [
    {
     "data": {
      "text/plain": [
       "1    900\n",
       "Name: target, dtype: int64"
      ]
     },
     "execution_count": 62,
     "metadata": {},
     "output_type": "execute_result"
    }
   ],
   "source": [
    "df_minority_upsample['target'].value_counts()"
   ]
  },
  {
   "cell_type": "code",
   "execution_count": 69,
   "id": "87cdc583-b2e4-4199-bb8e-378bb6b12ad8",
   "metadata": {},
   "outputs": [],
   "source": [
    "df_upsampled = pd.concat([df_majority, df_minority_upsample])"
   ]
  },
  {
   "cell_type": "code",
   "execution_count": 70,
   "id": "e160872a-5472-416b-a1b5-565d399eb12a",
   "metadata": {},
   "outputs": [
    {
     "data": {
      "text/html": [
       "<div>\n",
       "<style scoped>\n",
       "    .dataframe tbody tr th:only-of-type {\n",
       "        vertical-align: middle;\n",
       "    }\n",
       "\n",
       "    .dataframe tbody tr th {\n",
       "        vertical-align: top;\n",
       "    }\n",
       "\n",
       "    .dataframe thead th {\n",
       "        text-align: right;\n",
       "    }\n",
       "</style>\n",
       "<table border=\"1\" class=\"dataframe\">\n",
       "  <thead>\n",
       "    <tr style=\"text-align: right;\">\n",
       "      <th></th>\n",
       "      <th>feature_1</th>\n",
       "      <th>feature_2</th>\n",
       "      <th>target</th>\n",
       "    </tr>\n",
       "  </thead>\n",
       "  <tbody>\n",
       "    <tr>\n",
       "      <th>951</th>\n",
       "      <td>1.803756</td>\n",
       "      <td>1.850229</td>\n",
       "      <td>1</td>\n",
       "    </tr>\n",
       "    <tr>\n",
       "      <th>992</th>\n",
       "      <td>0.739604</td>\n",
       "      <td>1.642404</td>\n",
       "      <td>1</td>\n",
       "    </tr>\n",
       "    <tr>\n",
       "      <th>914</th>\n",
       "      <td>0.904999</td>\n",
       "      <td>2.818151</td>\n",
       "      <td>1</td>\n",
       "    </tr>\n",
       "    <tr>\n",
       "      <th>971</th>\n",
       "      <td>3.507181</td>\n",
       "      <td>0.838009</td>\n",
       "      <td>1</td>\n",
       "    </tr>\n",
       "    <tr>\n",
       "      <th>960</th>\n",
       "      <td>3.425993</td>\n",
       "      <td>0.696935</td>\n",
       "      <td>1</td>\n",
       "    </tr>\n",
       "    <tr>\n",
       "      <th>...</th>\n",
       "      <td>...</td>\n",
       "      <td>...</td>\n",
       "      <td>...</td>\n",
       "    </tr>\n",
       "    <tr>\n",
       "      <th>952</th>\n",
       "      <td>4.026777</td>\n",
       "      <td>1.421568</td>\n",
       "      <td>1</td>\n",
       "    </tr>\n",
       "    <tr>\n",
       "      <th>965</th>\n",
       "      <td>2.383004</td>\n",
       "      <td>0.731857</td>\n",
       "      <td>1</td>\n",
       "    </tr>\n",
       "    <tr>\n",
       "      <th>976</th>\n",
       "      <td>2.370883</td>\n",
       "      <td>1.344610</td>\n",
       "      <td>1</td>\n",
       "    </tr>\n",
       "    <tr>\n",
       "      <th>942</th>\n",
       "      <td>1.297736</td>\n",
       "      <td>2.888538</td>\n",
       "      <td>1</td>\n",
       "    </tr>\n",
       "    <tr>\n",
       "      <th>974</th>\n",
       "      <td>0.047459</td>\n",
       "      <td>2.651029</td>\n",
       "      <td>1</td>\n",
       "    </tr>\n",
       "  </tbody>\n",
       "</table>\n",
       "<p>1800 rows × 3 columns</p>\n",
       "</div>"
      ],
      "text/plain": [
       "     feature_1  feature_2  target\n",
       "951   1.803756   1.850229       1\n",
       "992   0.739604   1.642404       1\n",
       "914   0.904999   2.818151       1\n",
       "971   3.507181   0.838009       1\n",
       "960   3.425993   0.696935       1\n",
       "..         ...        ...     ...\n",
       "952   4.026777   1.421568       1\n",
       "965   2.383004   0.731857       1\n",
       "976   2.370883   1.344610       1\n",
       "942   1.297736   2.888538       1\n",
       "974   0.047459   2.651029       1\n",
       "\n",
       "[1800 rows x 3 columns]"
      ]
     },
     "execution_count": 70,
     "metadata": {},
     "output_type": "execute_result"
    }
   ],
   "source": [
    "up_sampled"
   ]
  },
  {
   "cell_type": "code",
   "execution_count": 71,
   "id": "e7419134-6c08-4d8f-b84f-c0c57446642e",
   "metadata": {},
   "outputs": [
    {
     "data": {
      "text/plain": [
       "0    900\n",
       "1    900\n",
       "Name: target, dtype: int64"
      ]
     },
     "execution_count": 71,
     "metadata": {},
     "output_type": "execute_result"
    }
   ],
   "source": [
    "df_upsampled['target'].value_counts()"
   ]
  },
  {
   "cell_type": "code",
   "execution_count": 72,
   "id": "8082cdc8-f21a-460f-99ce-0f008b542c90",
   "metadata": {},
   "outputs": [
    {
     "data": {
      "text/plain": [
       "(1800, 3)"
      ]
     },
     "execution_count": 72,
     "metadata": {},
     "output_type": "execute_result"
    }
   ],
   "source": [
    "df_upsampled.shape"
   ]
  },
  {
   "cell_type": "markdown",
   "id": "08c75cda-04fd-4246-b45d-e0cb21f538ed",
   "metadata": {},
   "source": [
    "## Downsampling"
   ]
  },
  {
   "cell_type": "code",
   "execution_count": 73,
   "id": "78475472-4e39-4e87-a7e2-5e303aed19e8",
   "metadata": {},
   "outputs": [],
   "source": [
    "# In this we have make the two feature in each category\n",
    "\n",
    "class_0 = pd.DataFrame({\n",
    "    'feature_1' : np.random.normal(loc = 0, scale = 1, size = n_class_0 ),\n",
    "    'feature_2' : np.random.normal(loc = 0 , scale =1 , size = n_class_0),\n",
    "    'target' : [0] * n_class_0\n",
    "})\n",
    "\n",
    "class_1 = pd.DataFrame({\n",
    "    'feature_1' : np.random.normal(loc = 2 ,scale = 1 , size = n_class_1),\n",
    "    'feature_2' : np.random.normal(loc = 2 ,scale = 1 , size = n_class_1),\n",
    "    'target' : [1] * n_class_1\n",
    "})"
   ]
  },
  {
   "cell_type": "code",
   "execution_count": 75,
   "id": "54d14f98-8b61-4b24-871c-d73bf55e3e69",
   "metadata": {},
   "outputs": [],
   "source": [
    "df = pd.concat([class_0 , class_1 ]).reset_index (drop=True)"
   ]
  },
  {
   "cell_type": "code",
   "execution_count": 76,
   "id": "ef7502fe-8f12-48b9-923a-7541f6364f82",
   "metadata": {},
   "outputs": [
    {
     "data": {
      "text/html": [
       "<div>\n",
       "<style scoped>\n",
       "    .dataframe tbody tr th:only-of-type {\n",
       "        vertical-align: middle;\n",
       "    }\n",
       "\n",
       "    .dataframe tbody tr th {\n",
       "        vertical-align: top;\n",
       "    }\n",
       "\n",
       "    .dataframe thead th {\n",
       "        text-align: right;\n",
       "    }\n",
       "</style>\n",
       "<table border=\"1\" class=\"dataframe\">\n",
       "  <thead>\n",
       "    <tr style=\"text-align: right;\">\n",
       "      <th></th>\n",
       "      <th>feature_1</th>\n",
       "      <th>feature_2</th>\n",
       "      <th>target</th>\n",
       "    </tr>\n",
       "  </thead>\n",
       "  <tbody>\n",
       "    <tr>\n",
       "      <th>0</th>\n",
       "      <td>-1.178457</td>\n",
       "      <td>0.435123</td>\n",
       "      <td>0</td>\n",
       "    </tr>\n",
       "    <tr>\n",
       "      <th>1</th>\n",
       "      <td>-0.801016</td>\n",
       "      <td>-0.773493</td>\n",
       "      <td>0</td>\n",
       "    </tr>\n",
       "    <tr>\n",
       "      <th>2</th>\n",
       "      <td>-0.730579</td>\n",
       "      <td>0.813067</td>\n",
       "      <td>0</td>\n",
       "    </tr>\n",
       "    <tr>\n",
       "      <th>3</th>\n",
       "      <td>0.984417</td>\n",
       "      <td>-0.279205</td>\n",
       "      <td>0</td>\n",
       "    </tr>\n",
       "    <tr>\n",
       "      <th>4</th>\n",
       "      <td>-1.055938</td>\n",
       "      <td>1.472848</td>\n",
       "      <td>0</td>\n",
       "    </tr>\n",
       "    <tr>\n",
       "      <th>...</th>\n",
       "      <td>...</td>\n",
       "      <td>...</td>\n",
       "      <td>...</td>\n",
       "    </tr>\n",
       "    <tr>\n",
       "      <th>995</th>\n",
       "      <td>-0.052874</td>\n",
       "      <td>1.455180</td>\n",
       "      <td>1</td>\n",
       "    </tr>\n",
       "    <tr>\n",
       "      <th>996</th>\n",
       "      <td>2.658482</td>\n",
       "      <td>2.054835</td>\n",
       "      <td>1</td>\n",
       "    </tr>\n",
       "    <tr>\n",
       "      <th>997</th>\n",
       "      <td>2.096702</td>\n",
       "      <td>1.288703</td>\n",
       "      <td>1</td>\n",
       "    </tr>\n",
       "    <tr>\n",
       "      <th>998</th>\n",
       "      <td>1.964598</td>\n",
       "      <td>1.133349</td>\n",
       "      <td>1</td>\n",
       "    </tr>\n",
       "    <tr>\n",
       "      <th>999</th>\n",
       "      <td>3.369347</td>\n",
       "      <td>2.655858</td>\n",
       "      <td>1</td>\n",
       "    </tr>\n",
       "  </tbody>\n",
       "</table>\n",
       "<p>1000 rows × 3 columns</p>\n",
       "</div>"
      ],
      "text/plain": [
       "     feature_1  feature_2  target\n",
       "0    -1.178457   0.435123       0\n",
       "1    -0.801016  -0.773493       0\n",
       "2    -0.730579   0.813067       0\n",
       "3     0.984417  -0.279205       0\n",
       "4    -1.055938   1.472848       0\n",
       "..         ...        ...     ...\n",
       "995  -0.052874   1.455180       1\n",
       "996   2.658482   2.054835       1\n",
       "997   2.096702   1.288703       1\n",
       "998   1.964598   1.133349       1\n",
       "999   3.369347   2.655858       1\n",
       "\n",
       "[1000 rows x 3 columns]"
      ]
     },
     "execution_count": 76,
     "metadata": {},
     "output_type": "execute_result"
    }
   ],
   "source": [
    "df"
   ]
  },
  {
   "cell_type": "code",
   "execution_count": 77,
   "id": "bf8ebf7c-299c-4668-acde-f0039592f266",
   "metadata": {},
   "outputs": [],
   "source": [
    "df_minority = df[df['target'] ==1]\n",
    "df_majority = df[df['target'] ==0]"
   ]
  },
  {
   "cell_type": "markdown",
   "id": "b4628436-fc20-473c-b255-743cb7fe58f0",
   "metadata": {},
   "source": [
    "## Performing Downsampling"
   ]
  },
  {
   "cell_type": "code",
   "execution_count": 83,
   "id": "613d2229-41d7-4c80-847d-9496e9b69556",
   "metadata": {},
   "outputs": [],
   "source": [
    "df_majority_downsample = resample(df_majority,\n",
    "                                replace= False,  # sample with replacement\n",
    "                                n_samples = len(df_minority), # to match the majority class\n",
    "                                random_state = 42\n",
    "                               )"
   ]
  },
  {
   "cell_type": "code",
   "execution_count": 84,
   "id": "a5ea6542-7534-4d27-a709-33b81049b860",
   "metadata": {},
   "outputs": [
    {
     "data": {
      "text/plain": [
       "(100, 3)"
      ]
     },
     "execution_count": 84,
     "metadata": {},
     "output_type": "execute_result"
    }
   ],
   "source": [
    "df_majority_downsample.shape"
   ]
  },
  {
   "cell_type": "code",
   "execution_count": 88,
   "id": "ed25c4e0-a908-49f2-a1e8-e19b6eeb9a59",
   "metadata": {},
   "outputs": [],
   "source": [
    "df_downsample = pd.concat([df_minority, df_majority_downsample])"
   ]
  },
  {
   "cell_type": "code",
   "execution_count": 89,
   "id": "274c03a6-e780-41b3-8af7-634904ce519f",
   "metadata": {},
   "outputs": [
    {
     "data": {
      "text/plain": [
       "1    100\n",
       "0    100\n",
       "Name: target, dtype: int64"
      ]
     },
     "execution_count": 89,
     "metadata": {},
     "output_type": "execute_result"
    }
   ],
   "source": [
    "df_downsample['target'].value_counts()"
   ]
  },
  {
   "cell_type": "code",
   "execution_count": null,
   "id": "b572f82e-c46e-4164-a072-c8f38ef95f3f",
   "metadata": {},
   "outputs": [],
   "source": []
  }
 ],
 "metadata": {
  "kernelspec": {
   "display_name": "Python 3 (ipykernel)",
   "language": "python",
   "name": "python3"
  },
  "language_info": {
   "codemirror_mode": {
    "name": "ipython",
    "version": 3
   },
   "file_extension": ".py",
   "mimetype": "text/x-python",
   "name": "python",
   "nbconvert_exporter": "python",
   "pygments_lexer": "ipython3",
   "version": "3.10.8"
  }
 },
 "nbformat": 4,
 "nbformat_minor": 5
}
